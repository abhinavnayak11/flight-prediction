{
  "nbformat": 4,
  "nbformat_minor": 0,
  "metadata": {
    "colab": {
      "name": "Data Cleaning.ipynb",
      "provenance": [],
      "collapsed_sections": []
    },
    "kernelspec": {
      "name": "python3",
      "display_name": "Python 3"
    },
    "language_info": {
      "name": "python"
    }
  },
  "cells": [
    {
      "cell_type": "markdown",
      "metadata": {
        "id": "55F6vyFB65JB"
      },
      "source": [
        "## ***Summary of the notebook***\n",
        "\n",
        "*In this notebook, I have cleaned the dataset.*\n",
        "\n",
        "***Index***\n",
        "1. Import libraries and data\n",
        "2. Handle null values\n",
        "3. Check and correct data types\n",
        "4. Handling Outliers"
      ]
    },
    {
      "cell_type": "markdown",
      "metadata": {
        "id": "o-B7aVOy3duE"
      },
      "source": [
        "## **<ins>Import libraries and data</ins>**"
      ]
    },
    {
      "cell_type": "code",
      "metadata": {
        "id": "Lvs40Rd78KEM"
      },
      "source": [
        "import pandas as pd\n",
        "import numpy as np\n",
        "import matplotlib.pyplot as plt\n",
        "import seaborn as sns\n",
        "import warnings\n",
        "import re\n",
        "\n",
        "warnings.filterwarnings('ignore')"
      ],
      "execution_count": 1,
      "outputs": []
    },
    {
      "cell_type": "code",
      "metadata": {
        "colab": {
          "base_uri": "https://localhost:8080/",
          "height": 204
        },
        "id": "JgQc6X_s8hMh",
        "outputId": "dc53e566-4ff1-41fb-8dd2-bd2c22535648"
      },
      "source": [
        "data = pd.read_excel('/content/drive/MyDrive/Colab Notebooks/Projects/Flight price prediction - 3/data.xlsx')\n",
        "data.columns = data.columns.str.lower()\n",
        "data.head()"
      ],
      "execution_count": 2,
      "outputs": [
        {
          "output_type": "execute_result",
          "data": {
            "text/html": [
              "<div>\n",
              "<style scoped>\n",
              "    .dataframe tbody tr th:only-of-type {\n",
              "        vertical-align: middle;\n",
              "    }\n",
              "\n",
              "    .dataframe tbody tr th {\n",
              "        vertical-align: top;\n",
              "    }\n",
              "\n",
              "    .dataframe thead th {\n",
              "        text-align: right;\n",
              "    }\n",
              "</style>\n",
              "<table border=\"1\" class=\"dataframe\">\n",
              "  <thead>\n",
              "    <tr style=\"text-align: right;\">\n",
              "      <th></th>\n",
              "      <th>airline</th>\n",
              "      <th>date_of_journey</th>\n",
              "      <th>source</th>\n",
              "      <th>destination</th>\n",
              "      <th>route</th>\n",
              "      <th>dep_time</th>\n",
              "      <th>arrival_time</th>\n",
              "      <th>duration</th>\n",
              "      <th>total_stops</th>\n",
              "      <th>additional_info</th>\n",
              "      <th>price</th>\n",
              "    </tr>\n",
              "  </thead>\n",
              "  <tbody>\n",
              "    <tr>\n",
              "      <th>0</th>\n",
              "      <td>IndiGo</td>\n",
              "      <td>24/03/2019</td>\n",
              "      <td>Banglore</td>\n",
              "      <td>New Delhi</td>\n",
              "      <td>BLR → DEL</td>\n",
              "      <td>22:20</td>\n",
              "      <td>01:10 22 Mar</td>\n",
              "      <td>2h 50m</td>\n",
              "      <td>non-stop</td>\n",
              "      <td>No info</td>\n",
              "      <td>3897</td>\n",
              "    </tr>\n",
              "    <tr>\n",
              "      <th>1</th>\n",
              "      <td>Air India</td>\n",
              "      <td>1/05/2019</td>\n",
              "      <td>Kolkata</td>\n",
              "      <td>Banglore</td>\n",
              "      <td>CCU → IXR → BBI → BLR</td>\n",
              "      <td>05:50</td>\n",
              "      <td>13:15</td>\n",
              "      <td>7h 25m</td>\n",
              "      <td>2 stops</td>\n",
              "      <td>No info</td>\n",
              "      <td>7662</td>\n",
              "    </tr>\n",
              "    <tr>\n",
              "      <th>2</th>\n",
              "      <td>Jet Airways</td>\n",
              "      <td>9/06/2019</td>\n",
              "      <td>Delhi</td>\n",
              "      <td>Cochin</td>\n",
              "      <td>DEL → LKO → BOM → COK</td>\n",
              "      <td>09:25</td>\n",
              "      <td>04:25 10 Jun</td>\n",
              "      <td>19h</td>\n",
              "      <td>2 stops</td>\n",
              "      <td>No info</td>\n",
              "      <td>13882</td>\n",
              "    </tr>\n",
              "    <tr>\n",
              "      <th>3</th>\n",
              "      <td>IndiGo</td>\n",
              "      <td>12/05/2019</td>\n",
              "      <td>Kolkata</td>\n",
              "      <td>Banglore</td>\n",
              "      <td>CCU → NAG → BLR</td>\n",
              "      <td>18:05</td>\n",
              "      <td>23:30</td>\n",
              "      <td>5h 25m</td>\n",
              "      <td>1 stop</td>\n",
              "      <td>No info</td>\n",
              "      <td>6218</td>\n",
              "    </tr>\n",
              "    <tr>\n",
              "      <th>4</th>\n",
              "      <td>IndiGo</td>\n",
              "      <td>01/03/2019</td>\n",
              "      <td>Banglore</td>\n",
              "      <td>New Delhi</td>\n",
              "      <td>BLR → NAG → DEL</td>\n",
              "      <td>16:50</td>\n",
              "      <td>21:35</td>\n",
              "      <td>4h 45m</td>\n",
              "      <td>1 stop</td>\n",
              "      <td>No info</td>\n",
              "      <td>13302</td>\n",
              "    </tr>\n",
              "  </tbody>\n",
              "</table>\n",
              "</div>"
            ],
            "text/plain": [
              "       airline date_of_journey    source  ... total_stops additional_info  price\n",
              "0       IndiGo      24/03/2019  Banglore  ...    non-stop         No info   3897\n",
              "1    Air India       1/05/2019   Kolkata  ...     2 stops         No info   7662\n",
              "2  Jet Airways       9/06/2019     Delhi  ...     2 stops         No info  13882\n",
              "3       IndiGo      12/05/2019   Kolkata  ...      1 stop         No info   6218\n",
              "4       IndiGo      01/03/2019  Banglore  ...      1 stop         No info  13302\n",
              "\n",
              "[5 rows x 11 columns]"
            ]
          },
          "metadata": {},
          "execution_count": 2
        }
      ]
    },
    {
      "cell_type": "markdown",
      "metadata": {
        "id": "hJcwbRyc-AIq"
      },
      "source": [
        "## **<ins>Check null values</ins>**"
      ]
    },
    {
      "cell_type": "code",
      "metadata": {
        "colab": {
          "base_uri": "https://localhost:8080/"
        },
        "id": "3vZqiWwd8oPk",
        "outputId": "24399102-4f8b-4ab0-8c5e-b1b9eacbf09e"
      },
      "source": [
        "data.isnull().sum()"
      ],
      "execution_count": 3,
      "outputs": [
        {
          "output_type": "execute_result",
          "data": {
            "text/plain": [
              "airline            0\n",
              "date_of_journey    0\n",
              "source             0\n",
              "destination        0\n",
              "route              1\n",
              "dep_time           0\n",
              "arrival_time       0\n",
              "duration           0\n",
              "total_stops        1\n",
              "additional_info    0\n",
              "price              0\n",
              "dtype: int64"
            ]
          },
          "metadata": {},
          "execution_count": 3
        }
      ]
    },
    {
      "cell_type": "markdown",
      "metadata": {
        "id": "unYpcoB7-Iu-"
      },
      "source": [
        "There are 2 null values. 1 each in `route` and `rotal_stops`. Let's print the row having null value in `route`"
      ]
    },
    {
      "cell_type": "code",
      "metadata": {
        "colab": {
          "base_uri": "https://localhost:8080/",
          "height": 80
        },
        "id": "aastnbI39eo-",
        "outputId": "91ea8831-967b-45a9-9232-573ea54d1511"
      },
      "source": [
        "_ = data['route'].isnull()\n",
        "data[_]"
      ],
      "execution_count": 4,
      "outputs": [
        {
          "output_type": "execute_result",
          "data": {
            "text/html": [
              "<div>\n",
              "<style scoped>\n",
              "    .dataframe tbody tr th:only-of-type {\n",
              "        vertical-align: middle;\n",
              "    }\n",
              "\n",
              "    .dataframe tbody tr th {\n",
              "        vertical-align: top;\n",
              "    }\n",
              "\n",
              "    .dataframe thead th {\n",
              "        text-align: right;\n",
              "    }\n",
              "</style>\n",
              "<table border=\"1\" class=\"dataframe\">\n",
              "  <thead>\n",
              "    <tr style=\"text-align: right;\">\n",
              "      <th></th>\n",
              "      <th>airline</th>\n",
              "      <th>date_of_journey</th>\n",
              "      <th>source</th>\n",
              "      <th>destination</th>\n",
              "      <th>route</th>\n",
              "      <th>dep_time</th>\n",
              "      <th>arrival_time</th>\n",
              "      <th>duration</th>\n",
              "      <th>total_stops</th>\n",
              "      <th>additional_info</th>\n",
              "      <th>price</th>\n",
              "    </tr>\n",
              "  </thead>\n",
              "  <tbody>\n",
              "    <tr>\n",
              "      <th>9039</th>\n",
              "      <td>Air India</td>\n",
              "      <td>6/05/2019</td>\n",
              "      <td>Delhi</td>\n",
              "      <td>Cochin</td>\n",
              "      <td>NaN</td>\n",
              "      <td>09:45</td>\n",
              "      <td>09:25 07 May</td>\n",
              "      <td>23h 40m</td>\n",
              "      <td>NaN</td>\n",
              "      <td>No info</td>\n",
              "      <td>7480</td>\n",
              "    </tr>\n",
              "  </tbody>\n",
              "</table>\n",
              "</div>"
            ],
            "text/plain": [
              "        airline date_of_journey source  ... total_stops additional_info price\n",
              "9039  Air India       6/05/2019  Delhi  ...         NaN         No info  7480\n",
              "\n",
              "[1 rows x 11 columns]"
            ]
          },
          "metadata": {},
          "execution_count": 4
        }
      ]
    },
    {
      "cell_type": "markdown",
      "metadata": {
        "id": "yQyhuDlu-e72"
      },
      "source": [
        "This row has 2 null values. One each in `route` and `total_stops`. We will delete this row as we do not lose much data."
      ]
    },
    {
      "cell_type": "code",
      "metadata": {
        "colab": {
          "base_uri": "https://localhost:8080/"
        },
        "id": "VpDqrHar9mFU",
        "outputId": "206984ea-6ce3-47e6-b224-18c95c570f42"
      },
      "source": [
        "data.drop(index = 9039, inplace = True)\n",
        "data.isnull().sum().sum()"
      ],
      "execution_count": 5,
      "outputs": [
        {
          "output_type": "execute_result",
          "data": {
            "text/plain": [
              "0"
            ]
          },
          "metadata": {},
          "execution_count": 5
        }
      ]
    },
    {
      "cell_type": "markdown",
      "metadata": {
        "id": "iy8aoIu1_SMJ"
      },
      "source": [
        "## **<ins>Check data types<ins>**"
      ]
    },
    {
      "cell_type": "code",
      "metadata": {
        "colab": {
          "base_uri": "https://localhost:8080/"
        },
        "id": "cEoika4R_EL2",
        "outputId": "31231d41-1540-4f4a-f719-7ef9680f4b7e"
      },
      "source": [
        "data.dtypes"
      ],
      "execution_count": 6,
      "outputs": [
        {
          "output_type": "execute_result",
          "data": {
            "text/plain": [
              "airline            object\n",
              "date_of_journey    object\n",
              "source             object\n",
              "destination        object\n",
              "route              object\n",
              "dep_time           object\n",
              "arrival_time       object\n",
              "duration           object\n",
              "total_stops        object\n",
              "additional_info    object\n",
              "price               int64\n",
              "dtype: object"
            ]
          },
          "metadata": {},
          "execution_count": 6
        }
      ]
    },
    {
      "cell_type": "markdown",
      "metadata": {
        "id": "-sq5xt0E_2qP"
      },
      "source": [
        "All features except features related to date and time have correct data types. So there is no need to change any dtype here"
      ]
    },
    {
      "cell_type": "markdown",
      "metadata": {
        "id": "EM6cIHXFAQff"
      },
      "source": [
        "## **<ins>Check outliers<ins>**"
      ]
    },
    {
      "cell_type": "markdown",
      "metadata": {
        "id": "3OoFHLdMD_s5"
      },
      "source": [
        "### **1) `price`**"
      ]
    },
    {
      "cell_type": "code",
      "metadata": {
        "colab": {
          "base_uri": "https://localhost:8080/",
          "height": 350
        },
        "id": "0UBzsiXR_XpL",
        "outputId": "716e5cc1-f405-410a-f87f-0c9b6ca4f88f"
      },
      "source": [
        "fig, (ax1, ax2) = plt.subplots(nrows = 1, ncols =2)\n",
        "fig.set_size_inches(10,5)\n",
        "sns.histplot(data['price'], ax = ax1)\n",
        "sns.boxplot(data['price'], ax = ax2)\n",
        "ax1.set_title(\"Histogram of 'Price' feature\")\n",
        "ax2.set_title(\"Boxplot of 'Price' feature\")\n",
        "plt.show()"
      ],
      "execution_count": 7,
      "outputs": [
        {
          "output_type": "display_data",
          "data": {
            "image/png": "[encoded data removed]",
            "text/plain": [
              "<Figure size 720x360 with 2 Axes>"
            ]
          },
          "metadata": {
            "needs_background": "light"
          }
        }
      ]
    },
    {
      "cell_type": "markdown",
      "metadata": {
        "id": "Iz8BxEZcC09J"
      },
      "source": [
        "There are outliers in `price`. We will remove them"
      ]
    },
    {
      "cell_type": "code",
      "metadata": {
        "colab": {
          "base_uri": "https://localhost:8080/"
        },
        "id": "20OqfrluAXQF",
        "outputId": "5649d1e5-6e45-4153-c2ec-57a09525dc2b"
      },
      "source": [
        "data['price'].sort_values(ascending = False).head(15)"
      ],
      "execution_count": 8,
      "outputs": [
        {
          "output_type": "execute_result",
          "data": {
            "text/plain": [
              "2924     79512\n",
              "5372     62427\n",
              "10364    57209\n",
              "5439     54826\n",
              "2618     54826\n",
              "1478     54826\n",
              "9715     52285\n",
              "657      52229\n",
              "7351     46490\n",
              "396      36983\n",
              "2099     36235\n",
              "5719     36235\n",
              "2693     35185\n",
              "8598     34608\n",
              "7617     34503\n",
              "Name: price, dtype: int64"
            ]
          },
          "metadata": {},
          "execution_count": 8
        }
      ]
    },
    {
      "cell_type": "markdown",
      "metadata": {
        "id": "oV3d60RKDmd8"
      },
      "source": [
        "We will remove rows with `price` > 40000"
      ]
    },
    {
      "cell_type": "code",
      "metadata": {
        "id": "ePy9zFJBDCOq"
      },
      "source": [
        "data = data[data['price'] < 40000]"
      ],
      "execution_count": 9,
      "outputs": []
    },
    {
      "cell_type": "markdown",
      "metadata": {
        "id": "v-TTFlBSEEnt"
      },
      "source": [
        "### **2) `airline`**"
      ]
    },
    {
      "cell_type": "code",
      "metadata": {
        "colab": {
          "base_uri": "https://localhost:8080/"
        },
        "id": "cs_5okMrD5N0",
        "outputId": "53614799-2dcf-4ef9-a4ee-a20d8d3ea002"
      },
      "source": [
        "data['airline'].value_counts()"
      ],
      "execution_count": 10,
      "outputs": [
        {
          "output_type": "execute_result",
          "data": {
            "text/plain": [
              "Jet Airways                          3846\n",
              "IndiGo                               2053\n",
              "Air India                            1751\n",
              "Multiple carriers                    1196\n",
              "SpiceJet                              818\n",
              "Vistara                               479\n",
              "Air Asia                              319\n",
              "GoAir                                 194\n",
              "Multiple carriers Premium economy      13\n",
              "Vistara Premium economy                 3\n",
              "Trujet                                  1\n",
              "Name: airline, dtype: int64"
            ]
          },
          "metadata": {},
          "execution_count": 10
        }
      ]
    },
    {
      "cell_type": "markdown",
      "metadata": {
        "id": "KOIfVL11ETkp"
      },
      "source": [
        "Last 3 airline have very few examples compared to other airlines. We will remove these to make it more balanced dataset"
      ]
    },
    {
      "cell_type": "code",
      "metadata": {
        "id": "JP2goSllEKzZ"
      },
      "source": [
        "mask1 = data['airline'] != 'Trujet'\n",
        "mask2 = data['airline'] != 'Multiple carriers Premium economy'\n",
        "mask3 = data['airline'] != 'Vistara Premium economy'\n",
        "data = data[mask1 & mask2 & mask3]"
      ],
      "execution_count": 11,
      "outputs": []
    },
    {
      "cell_type": "code",
      "metadata": {
        "colab": {
          "base_uri": "https://localhost:8080/",
          "height": 458
        },
        "id": "r5oyX6cAfp6t",
        "outputId": "218c8a4e-2d0c-4c48-d53d-5293cd09ace1"
      },
      "source": [
        "plt.figure(figsize=(10, 7))\n",
        "sns.boxplot(data = data, x = 'airline', y = 'price')\n",
        "plt.title('boxplot of each airline vs price');"
      ],
      "execution_count": 12,
      "outputs": [
        {
          "output_type": "display_data",
          "data": {
            "image/png": "[encoded data removed]",
            "text/plain": [
              "<Figure size 720x504 with 1 Axes>"
            ]
          },
          "metadata": {
            "needs_background": "light"
          }
        }
      ]
    },
    {
      "cell_type": "markdown",
      "metadata": {
        "id": "2myzVQipg02N"
      },
      "source": [
        "'SpiceJet' has an outier. Let's remove it."
      ]
    },
    {
      "cell_type": "code",
      "metadata": {
        "colab": {
          "base_uri": "https://localhost:8080/"
        },
        "id": "KSom9QkPgGo_",
        "outputId": "0328bcc1-6714-406f-aeb7-0e03834cb0d1"
      },
      "source": [
        "print(data[(data['airline'] == 'SpiceJet') & (data['price']>20000)].index)"
      ],
      "execution_count": 13,
      "outputs": [
        {
          "output_type": "stream",
          "name": "stdout",
          "text": [
            "Int64Index([5136], dtype='int64')\n"
          ]
        }
      ]
    },
    {
      "cell_type": "code",
      "metadata": {
        "id": "tISXgGi4gv9t"
      },
      "source": [
        "data.drop(index = 5136, inplace = True)"
      ],
      "execution_count": 14,
      "outputs": []
    },
    {
      "cell_type": "markdown",
      "metadata": {
        "id": "aO-7M7LzE6et"
      },
      "source": [
        "### **3) `source`**"
      ]
    },
    {
      "cell_type": "code",
      "metadata": {
        "colab": {
          "base_uri": "https://localhost:8080/"
        },
        "id": "WRmsHqdkE18l",
        "outputId": "0d87e436-4fbd-404e-8289-e0c45cb7e4ac"
      },
      "source": [
        "data['source'].value_counts()"
      ],
      "execution_count": 15,
      "outputs": [
        {
          "output_type": "execute_result",
          "data": {
            "text/plain": [
              "Delhi       4521\n",
              "Kolkata     2871\n",
              "Banglore    2187\n",
              "Mumbai       696\n",
              "Chennai      380\n",
              "Name: source, dtype: int64"
            ]
          },
          "metadata": {},
          "execution_count": 15
        }
      ]
    },
    {
      "cell_type": "markdown",
      "metadata": {
        "id": "-6J1iwRzFGyV"
      },
      "source": [
        "data is clean here"
      ]
    },
    {
      "cell_type": "code",
      "metadata": {
        "colab": {
          "base_uri": "https://localhost:8080/",
          "height": 458
        },
        "id": "YbG7RaUVg-Kj",
        "outputId": "8881bd4c-633f-476c-ad97-3a55f83af886"
      },
      "source": [
        "plt.figure(figsize=(10, 7))\n",
        "sns.boxplot(data = data, x = 'source', y = 'price')\n",
        "plt.title('boxplot of each source city vs price');"
      ],
      "execution_count": 16,
      "outputs": [
        {
          "output_type": "display_data",
          "data": {
            "image/png": "[encoded data removed]",
            "text/plain": [
              "<Figure size 720x504 with 1 Axes>"
            ]
          },
          "metadata": {
            "needs_background": "light"
          }
        }
      ]
    },
    {
      "cell_type": "markdown",
      "metadata": {
        "id": "yfThKGgfhB6B"
      },
      "source": [
        "'Kolkata' and 'Chennai' have 1 outlier each. We will remove them"
      ]
    },
    {
      "cell_type": "code",
      "metadata": {
        "colab": {
          "base_uri": "https://localhost:8080/"
        },
        "id": "sdZWjL1WhK6r",
        "outputId": "e94235f5-4458-4da5-88bb-82333926f5d0"
      },
      "source": [
        "print(data[(data['source'] == 'Kolkata') & (data['price']>30000)].index)\n",
        "print(data[(data['source'] == 'Chennai') & (data['price']>15000)].index)"
      ],
      "execution_count": 17,
      "outputs": [
        {
          "output_type": "stream",
          "name": "stdout",
          "text": [
            "Int64Index([10052], dtype='int64')\n",
            "Int64Index([268], dtype='int64')\n"
          ]
        }
      ]
    },
    {
      "cell_type": "code",
      "metadata": {
        "id": "hZL5hVoXh08C"
      },
      "source": [
        "data.drop(index = [10052, 268], inplace = True)"
      ],
      "execution_count": 18,
      "outputs": []
    },
    {
      "cell_type": "markdown",
      "metadata": {
        "id": "sTGnQ-PiFJQl"
      },
      "source": [
        "### **4) `destination`**"
      ]
    },
    {
      "cell_type": "code",
      "metadata": {
        "colab": {
          "base_uri": "https://localhost:8080/"
        },
        "id": "_wMo1hpZFBn9",
        "outputId": "9d54ee8b-820f-4c36-c072-a424c370af76"
      },
      "source": [
        "data['destination'].value_counts()"
      ],
      "execution_count": 19,
      "outputs": [
        {
          "output_type": "execute_result",
          "data": {
            "text/plain": [
              "Cochin       4521\n",
              "Banglore     2870\n",
              "Delhi        1264\n",
              "New Delhi     923\n",
              "Hyderabad     696\n",
              "Kolkata       379\n",
              "Name: destination, dtype: int64"
            ]
          },
          "metadata": {},
          "execution_count": 19
        }
      ]
    },
    {
      "cell_type": "markdown",
      "metadata": {
        "id": "lbaKa40jFP9x"
      },
      "source": [
        "data is clean here"
      ]
    },
    {
      "cell_type": "code",
      "metadata": {
        "colab": {
          "base_uri": "https://localhost:8080/",
          "height": 458
        },
        "id": "cI-I4SgViBGB",
        "outputId": "ecc6d80a-a1a8-47b1-c726-96546a4e0dcc"
      },
      "source": [
        "plt.figure(figsize=(10, 7))\n",
        "sns.boxplot(data = data, x = 'destination', y = 'price')\n",
        "plt.title('boxplot of each destination city vs price');"
      ],
      "execution_count": 20,
      "outputs": [
        {
          "output_type": "display_data",
          "data": {
            "image/png": "[encoded data removed]",
            "text/plain": [
              "<Figure size 720x504 with 1 Axes>"
            ]
          },
          "metadata": {
            "needs_background": "light"
          }
        }
      ]
    },
    {
      "cell_type": "markdown",
      "metadata": {
        "id": "kis0tbj0iY5Z"
      },
      "source": [
        "'New Delhi' and 'Cochin' have some outliers. Let's remove them"
      ]
    },
    {
      "cell_type": "code",
      "metadata": {
        "colab": {
          "base_uri": "https://localhost:8080/"
        },
        "id": "hQkHM4YLieDJ",
        "outputId": "f08bfdfa-a760-489f-c21c-37423917054b"
      },
      "source": [
        "print(data[(data['destination'] == 'New Delhi') & (data['price']>33000)].index)\n",
        "print(data[(data['destination'] == 'Cochin') & (data['price']>32000)].index)"
      ],
      "execution_count": 21,
      "outputs": [
        {
          "output_type": "stream",
          "name": "stdout",
          "text": [
            "Int64Index([2099, 2693, 5719], dtype='int64')\n",
            "Int64Index([396, 6991, 7617, 8598], dtype='int64')\n"
          ]
        }
      ]
    },
    {
      "cell_type": "code",
      "metadata": {
        "id": "xdIytfbMi3Y9"
      },
      "source": [
        "data.drop(index = [2099, 2693, 5719, 2099, 2693, 5719], inplace = True)"
      ],
      "execution_count": 22,
      "outputs": []
    },
    {
      "cell_type": "markdown",
      "metadata": {
        "id": "UugbW1gPFSI8"
      },
      "source": [
        "### **5) `total_stops`**"
      ]
    },
    {
      "cell_type": "code",
      "metadata": {
        "colab": {
          "base_uri": "https://localhost:8080/"
        },
        "id": "uyXXhCGpFd2z",
        "outputId": "60bce173-1d62-40d6-e3a9-2ff8df36ccf8"
      },
      "source": [
        "data['total_stops'].value_counts()"
      ],
      "execution_count": 23,
      "outputs": [
        {
          "output_type": "execute_result",
          "data": {
            "text/plain": [
              "1 stop      5600\n",
              "non-stop    3486\n",
              "2 stops     1518\n",
              "3 stops       45\n",
              "4 stops        1\n",
              "Name: total_stops, dtype: int64"
            ]
          },
          "metadata": {},
          "execution_count": 23
        }
      ]
    },
    {
      "cell_type": "markdown",
      "metadata": {
        "id": "6ZmCTJw4FiMF"
      },
      "source": [
        "'3 stops' and '4 stops' have very few examples compared to other options. Let's remove them to make it more balanced dataset"
      ]
    },
    {
      "cell_type": "code",
      "metadata": {
        "id": "TADLNOCxFyDd"
      },
      "source": [
        "mask1 = data['total_stops'] != '4 stops'\n",
        "mask2 = data['total_stops'] != '3 stops'\n",
        "data = data[mask1 & mask2]"
      ],
      "execution_count": 24,
      "outputs": []
    },
    {
      "cell_type": "code",
      "metadata": {
        "colab": {
          "base_uri": "https://localhost:8080/",
          "height": 459
        },
        "id": "UWckFCMYjAgz",
        "outputId": "96020199-cf15-4569-9f9c-dab57f1a2529"
      },
      "source": [
        "plt.figure(figsize=(10, 7))\n",
        "sns.boxplot(data = data, x = 'total_stops', y = 'price')\n",
        "plt.title('boxplot of total stops vs price');"
      ],
      "execution_count": 25,
      "outputs": [
        {
          "output_type": "display_data",
          "data": {
            "image/png": "[encoded data removed]",
            "text/plain": [
              "<Figure size 720x504 with 1 Axes>"
            ]
          },
          "metadata": {
            "needs_background": "light"
          }
        }
      ]
    },
    {
      "cell_type": "markdown",
      "metadata": {
        "id": "v3uJy5C8jSdq"
      },
      "source": [
        "'2 stops' has outliers. Let's remove them"
      ]
    },
    {
      "cell_type": "code",
      "metadata": {
        "colab": {
          "base_uri": "https://localhost:8080/"
        },
        "id": "FYp0PykMjKBC",
        "outputId": "59f678de-d8e7-41f3-df96-45698c4743d5"
      },
      "source": [
        "print(data[(data['total_stops'] == '2 stops') & (data['price']>30000)].index)"
      ],
      "execution_count": 26,
      "outputs": [
        {
          "output_type": "stream",
          "name": "stdout",
          "text": [
            "Int64Index([1629, 7617, 8598], dtype='int64')\n"
          ]
        }
      ]
    },
    {
      "cell_type": "code",
      "metadata": {
        "id": "IHzoGBlbjXV3"
      },
      "source": [
        "data.drop(index = [1629, 7617, 8598], inplace = True)"
      ],
      "execution_count": 27,
      "outputs": []
    },
    {
      "cell_type": "markdown",
      "metadata": {
        "id": "KWXiVs6CG0Mh"
      },
      "source": [
        "### **6) `date_of_journey`**"
      ]
    },
    {
      "cell_type": "markdown",
      "metadata": {
        "id": "9JdGjKXzHMc2"
      },
      "source": [
        "Let's first convert this to date type and create new features based on it."
      ]
    },
    {
      "cell_type": "code",
      "metadata": {
        "id": "sfjlgyplG47B"
      },
      "source": [
        "data['date_of_journey'] = pd.to_datetime(data['date_of_journey'], format='%d/%m/%Y')\n",
        "data['doj_month'] = data['date_of_journey'].dt.month\n",
        "data['doj_day'] = data['date_of_journey'].dt.day\n",
        "data['doj_dayofweek'] = data['date_of_journey'].dt.dayofweek\n",
        "data['doj_weekofyear'] = data['date_of_journey'].dt.isocalendar().week"
      ],
      "execution_count": 28,
      "outputs": []
    },
    {
      "cell_type": "code",
      "metadata": {
        "colab": {
          "base_uri": "https://localhost:8080/"
        },
        "id": "z4T7HzZtcD00",
        "outputId": "19ad2d70-8ea1-44c2-b0be-93b2f48af8b6"
      },
      "source": [
        "print(f\"months present in data : {data['doj_month'].value_counts().index.sort_values()}\")\n",
        "print(f\"day of the months present in data : {data['doj_day'].value_counts().index.sort_values()}\")\n",
        "print(f\"day of the week present in data : {data['doj_dayofweek'].value_counts().index.sort_values()}\")"
      ],
      "execution_count": 29,
      "outputs": [
        {
          "output_type": "stream",
          "name": "stdout",
          "text": [
            "months present in data : Int64Index([3, 4, 5, 6], dtype='int64')\n",
            "day of the months present in data : Int64Index([1, 3, 6, 9, 12, 15, 18, 21, 24, 27], dtype='int64')\n",
            "day of the week present in data : Int64Index([0, 1, 2, 3, 4, 5, 6], dtype='int64')\n"
          ]
        }
      ]
    },
    {
      "cell_type": "markdown",
      "metadata": {
        "id": "S92WHpfpczPL"
      },
      "source": [
        "Here we observe that the \n",
        "1. Data only for the months of March, April, May and June of 2019. \n",
        "2. Oddly, only a few days of the month in dataset\n",
        "\n",
        "Future scope for this project would be collect more data and rebuild the model"
      ]
    },
    {
      "cell_type": "code",
      "metadata": {
        "colab": {
          "base_uri": "https://localhost:8080/",
          "height": 351
        },
        "id": "1cnPtHF5QTgF",
        "outputId": "aa1b17dc-bf42-4431-9024-59f2489d5d68"
      },
      "source": [
        "plt.figure(figsize=(15, 5))\n",
        "sns.lineplot(data = data, x = 'date_of_journey', y = 'price');\n",
        "plt.title('Price varation with time');"
      ],
      "execution_count": 30,
      "outputs": [
        {
          "output_type": "display_data",
          "data": {
            "image/png": "[encoded data removed]",
            "text/plain": [
              "<Figure size 1080x360 with 1 Axes>"
            ]
          },
          "metadata": {
            "needs_background": "light"
          }
        }
      ]
    },
    {
      "cell_type": "markdown",
      "metadata": {
        "id": "mZ8ZuxQ_QfEv"
      },
      "source": [
        "Pattern observed:   \n",
        "1. Price for 'March' consistently decrease \n",
        "2. Avg Price for 'April' is lowest\n",
        "3. Large dip in Price at the starting of 'May\n",
        "4. Large dip in Price in 2nd half of 'June'\n",
        "5. No obvious outliers. We have to dig deeper to get the outliers"
      ]
    },
    {
      "cell_type": "markdown",
      "metadata": {
        "id": "4Fozz-nejrNg"
      },
      "source": [
        "### **7) `doj_month`**"
      ]
    },
    {
      "cell_type": "code",
      "metadata": {
        "colab": {
          "base_uri": "https://localhost:8080/",
          "height": 459
        },
        "id": "sf5OGa1MKx6b",
        "outputId": "2c796fb0-c670-4418-8b1e-2e6069f3ad17"
      },
      "source": [
        "plt.figure(figsize=(10, 7))\n",
        "sns.boxplot(data = data, x = 'doj_month', y = 'price')\n",
        "plt.title('Boxplot for each month vs Price');"
      ],
      "execution_count": 31,
      "outputs": [
        {
          "output_type": "display_data",
          "data": {
            "image/png": "[encoded data removed]",
            "text/plain": [
              "<Figure size 720x504 with 1 Axes>"
            ]
          },
          "metadata": {
            "needs_background": "light"
          }
        }
      ]
    },
    {
      "cell_type": "markdown",
      "metadata": {
        "id": "fPdxv6TowvJf"
      },
      "source": [
        "'May' has an outlier. We will remove that."
      ]
    },
    {
      "cell_type": "code",
      "metadata": {
        "colab": {
          "base_uri": "https://localhost:8080/"
        },
        "id": "VBdO8he2w1KX",
        "outputId": "90907281-bb43-45df-8a0d-c31747df9db2"
      },
      "source": [
        "print(data[(data['doj_month'] == 5) & (data['price']>30000)].index)"
      ],
      "execution_count": 32,
      "outputs": [
        {
          "output_type": "stream",
          "name": "stdout",
          "text": [
            "Int64Index([6991], dtype='int64')\n"
          ]
        }
      ]
    },
    {
      "cell_type": "code",
      "metadata": {
        "id": "MqKB2By9w_nd"
      },
      "source": [
        "data.drop(index = [6991], inplace = True)"
      ],
      "execution_count": 33,
      "outputs": []
    },
    {
      "cell_type": "markdown",
      "metadata": {
        "id": "3bK3bMHfj4GQ"
      },
      "source": [
        "### **8) `doj_day`**"
      ]
    },
    {
      "cell_type": "code",
      "metadata": {
        "colab": {
          "base_uri": "https://localhost:8080/",
          "height": 450
        },
        "id": "d9xZrQdWj8rz",
        "outputId": "a210d25a-1343-4cd7-e34e-230bb3246a06"
      },
      "source": [
        "plt.figure(figsize=(30, 10))\n",
        "sns.boxplot(data = data, x = 'doj_day', y = 'price')\n",
        "plt.title('Boxplot for each day vs Price');"
      ],
      "execution_count": 34,
      "outputs": [
        {
          "output_type": "display_data",
          "data": {
            "image/png": "[encoded data removed]",
            "text/plain": [
              "<Figure size 2160x720 with 1 Axes>"
            ]
          },
          "metadata": {
            "needs_background": "light"
          }
        }
      ]
    },
    {
      "cell_type": "markdown",
      "metadata": {
        "id": "c9Ldu73cxS7p"
      },
      "source": [
        "'1' and '15' have outliers. We will remove that."
      ]
    },
    {
      "cell_type": "code",
      "metadata": {
        "colab": {
          "base_uri": "https://localhost:8080/"
        },
        "id": "gsWmGq3EdXe4",
        "outputId": "25d53e45-0e3c-467a-fd37-90901e016659"
      },
      "source": [
        "print(data[(data['doj_day'] == 1) & (data['price']>35000)].index)\n",
        "print(data[(data['doj_day'] == 15) & (data['price']>25000)].index)"
      ],
      "execution_count": 35,
      "outputs": [
        {
          "output_type": "stream",
          "name": "stdout",
          "text": [
            "Int64Index([396], dtype='int64')\n",
            "Int64Index([628, 2108], dtype='int64')\n"
          ]
        }
      ]
    },
    {
      "cell_type": "code",
      "metadata": {
        "id": "8_YizA3ZxZwR"
      },
      "source": [
        "data.drop(index = [396, 628, 2108], inplace = True)"
      ],
      "execution_count": 36,
      "outputs": []
    },
    {
      "cell_type": "markdown",
      "metadata": {
        "id": "dWEh_IRSzy9N"
      },
      "source": [
        "### **9) doj_dayofweek**"
      ]
    },
    {
      "cell_type": "code",
      "metadata": {
        "colab": {
          "base_uri": "https://localhost:8080/",
          "height": 450
        },
        "id": "OA_d9mwBzr11",
        "outputId": "d78a907b-4250-4e09-d10c-31a1287b4d7a"
      },
      "source": [
        "plt.figure(figsize=(30, 10))\n",
        "sns.boxplot(data = data, x = 'doj_dayofweek', y = 'price')\n",
        "plt.title('Boxplot for each weekday vs Price');"
      ],
      "execution_count": 37,
      "outputs": [
        {
          "output_type": "display_data",
          "data": {
            "image/png": "[encoded data removed]",
            "text/plain": [
              "<Figure size 2160x720 with 1 Axes>"
            ]
          },
          "metadata": {
            "needs_background": "light"
          }
        }
      ]
    },
    {
      "cell_type": "markdown",
      "metadata": {
        "id": "mYnpbekT0_Cv"
      },
      "source": [
        "### **10) dep_time**     \n",
        "First we extract the hours and minutes from this column and create new features"
      ]
    },
    {
      "cell_type": "code",
      "metadata": {
        "id": "Yq0gnwxv1D42"
      },
      "source": [
        "# Converting departure time into hours and minutes\n",
        "data['dep_hour'] = data['dep_time'].apply(lambda x: re.findall(r'(\\d+):\\d+', x)[0]).astype(int)\n",
        "data['dep_min'] = data['dep_time'].apply(lambda x: re.findall(r'\\d+:(\\d+)', x)[0]).astype(int)"
      ],
      "execution_count": 38,
      "outputs": []
    },
    {
      "cell_type": "markdown",
      "metadata": {
        "id": "c9SYc8RA11Y4"
      },
      "source": [
        "## **<ins>Delete features</ins>**   \n",
        "\n",
        "1. `date_of_journey` & `dep_time` : We have created necessary features from them and they are no longer required.\n",
        "2. `route`, `additional_info`, `arrival_time`, `duration` : To keep the user input more intuitive, we are omitting these features"
      ]
    },
    {
      "cell_type": "code",
      "metadata": {
        "id": "Qc2su8Gj284F"
      },
      "source": [
        "data.drop(['date_of_journey', 'dep_time', 'route', 'additional_info', 'arrival_time', 'duration'], axis = 1, inplace = True)"
      ],
      "execution_count": 39,
      "outputs": []
    },
    {
      "cell_type": "markdown",
      "metadata": {
        "id": "Ir3MC3-G3Wew"
      },
      "source": [
        "## **<ins>Final data</ins>**"
      ]
    },
    {
      "cell_type": "code",
      "metadata": {
        "colab": {
          "base_uri": "https://localhost:8080/",
          "height": 204
        },
        "id": "ryEcJ8XuFVgo",
        "outputId": "a0eec45d-e070-48e9-94bd-09e597bc9675"
      },
      "source": [
        "data.head()"
      ],
      "execution_count": 40,
      "outputs": [
        {
          "output_type": "execute_result",
          "data": {
            "text/html": [
              "<div>\n",
              "<style scoped>\n",
              "    .dataframe tbody tr th:only-of-type {\n",
              "        vertical-align: middle;\n",
              "    }\n",
              "\n",
              "    .dataframe tbody tr th {\n",
              "        vertical-align: top;\n",
              "    }\n",
              "\n",
              "    .dataframe thead th {\n",
              "        text-align: right;\n",
              "    }\n",
              "</style>\n",
              "<table border=\"1\" class=\"dataframe\">\n",
              "  <thead>\n",
              "    <tr style=\"text-align: right;\">\n",
              "      <th></th>\n",
              "      <th>airline</th>\n",
              "      <th>source</th>\n",
              "      <th>destination</th>\n",
              "      <th>total_stops</th>\n",
              "      <th>price</th>\n",
              "      <th>doj_month</th>\n",
              "      <th>doj_day</th>\n",
              "      <th>doj_dayofweek</th>\n",
              "      <th>doj_weekofyear</th>\n",
              "      <th>dep_hour</th>\n",
              "      <th>dep_min</th>\n",
              "    </tr>\n",
              "  </thead>\n",
              "  <tbody>\n",
              "    <tr>\n",
              "      <th>0</th>\n",
              "      <td>IndiGo</td>\n",
              "      <td>Banglore</td>\n",
              "      <td>New Delhi</td>\n",
              "      <td>non-stop</td>\n",
              "      <td>3897</td>\n",
              "      <td>3</td>\n",
              "      <td>24</td>\n",
              "      <td>6</td>\n",
              "      <td>12</td>\n",
              "      <td>22</td>\n",
              "      <td>20</td>\n",
              "    </tr>\n",
              "    <tr>\n",
              "      <th>1</th>\n",
              "      <td>Air India</td>\n",
              "      <td>Kolkata</td>\n",
              "      <td>Banglore</td>\n",
              "      <td>2 stops</td>\n",
              "      <td>7662</td>\n",
              "      <td>5</td>\n",
              "      <td>1</td>\n",
              "      <td>2</td>\n",
              "      <td>18</td>\n",
              "      <td>5</td>\n",
              "      <td>50</td>\n",
              "    </tr>\n",
              "    <tr>\n",
              "      <th>2</th>\n",
              "      <td>Jet Airways</td>\n",
              "      <td>Delhi</td>\n",
              "      <td>Cochin</td>\n",
              "      <td>2 stops</td>\n",
              "      <td>13882</td>\n",
              "      <td>6</td>\n",
              "      <td>9</td>\n",
              "      <td>6</td>\n",
              "      <td>23</td>\n",
              "      <td>9</td>\n",
              "      <td>25</td>\n",
              "    </tr>\n",
              "    <tr>\n",
              "      <th>3</th>\n",
              "      <td>IndiGo</td>\n",
              "      <td>Kolkata</td>\n",
              "      <td>Banglore</td>\n",
              "      <td>1 stop</td>\n",
              "      <td>6218</td>\n",
              "      <td>5</td>\n",
              "      <td>12</td>\n",
              "      <td>6</td>\n",
              "      <td>19</td>\n",
              "      <td>18</td>\n",
              "      <td>5</td>\n",
              "    </tr>\n",
              "    <tr>\n",
              "      <th>4</th>\n",
              "      <td>IndiGo</td>\n",
              "      <td>Banglore</td>\n",
              "      <td>New Delhi</td>\n",
              "      <td>1 stop</td>\n",
              "      <td>13302</td>\n",
              "      <td>3</td>\n",
              "      <td>1</td>\n",
              "      <td>4</td>\n",
              "      <td>9</td>\n",
              "      <td>16</td>\n",
              "      <td>50</td>\n",
              "    </tr>\n",
              "  </tbody>\n",
              "</table>\n",
              "</div>"
            ],
            "text/plain": [
              "       airline    source destination  ... doj_weekofyear  dep_hour  dep_min\n",
              "0       IndiGo  Banglore   New Delhi  ...             12        22       20\n",
              "1    Air India   Kolkata    Banglore  ...             18         5       50\n",
              "2  Jet Airways     Delhi      Cochin  ...             23         9       25\n",
              "3       IndiGo   Kolkata    Banglore  ...             19        18        5\n",
              "4       IndiGo  Banglore   New Delhi  ...              9        16       50\n",
              "\n",
              "[5 rows x 11 columns]"
            ]
          },
          "metadata": {},
          "execution_count": 40
        }
      ]
    },
    {
      "cell_type": "markdown",
      "metadata": {
        "id": "i5hLdY7t6zLC"
      },
      "source": [
        "___"
      ]
    }
  ]
}