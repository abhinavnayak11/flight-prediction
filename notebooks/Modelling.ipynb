{
  "nbformat": 4,
  "nbformat_minor": 0,
  "metadata": {
    "colab": {
      "name": "Modelling.ipynb",
      "provenance": [],
      "collapsed_sections": []
    },
    "kernelspec": {
      "name": "python3",
      "display_name": "Python 3"
    },
    "language_info": {
      "name": "python"
    }
  },
  "cells": [
    {
      "cell_type": "markdown",
      "metadata": {
        "id": "VUPJV2iPEqLp"
      },
      "source": [
        "## ***Summary of the notebook***\n",
        "\n",
        "*In this notebook, I have trained the model to be used for inference.*\n",
        "\n",
        "***Index***\n",
        "1. Import libraries and data\n",
        "2. Data Cleaning\n",
        "3. One-Hot encoding\n",
        "4. Training Models\n",
        "5. Hyperparameter Optimization"
      ]
    },
    {
      "cell_type": "markdown",
      "metadata": {
        "id": "nNcEgQd-bxxc"
      },
      "source": [
        "## **<ins>Import libraries and data</ins>**"
      ]
    },
    {
      "cell_type": "code",
      "metadata": {
        "id": "YzXtBKfraQpT"
      },
      "source": [
        "import pandas as pd\n",
        "import numpy as np\n",
        "import matplotlib.pyplot as plt\n",
        "import seaborn as sns\n",
        "import warnings\n",
        "import re\n",
        "import joblib\n",
        "\n",
        "from sklearn.model_selection import KFold, cross_val_score\n",
        "from sklearn import metrics\n",
        "\n",
        "from sklearn.ensemble import RandomForestRegressor, ExtraTreesRegressor\n",
        "from sklearn.linear_model import LinearRegression, Ridge, Lasso\n",
        "from sklearn.tree import DecisionTreeRegressor\n",
        "\n",
        "from lightgbm import LGBMRegressor\n",
        "from xgboost import XGBRegressor\n",
        "from catboost import CatBoostRegressor\n",
        "\n",
        "warnings.filterwarnings('ignore')"
      ],
      "execution_count": 3,
      "outputs": []
    },
    {
      "cell_type": "code",
      "metadata": {
        "colab": {
          "base_uri": "https://localhost:8080/",
          "height": 204
        },
        "id": "ANi9aOOmaZIQ",
        "outputId": "e0a82f23-cce6-4a84-a434-834d49d0c64f"
      },
      "source": [
        "data = pd.read_excel('/content/drive/MyDrive/Colab Notebooks/Projects/Flight price prediction - 3/data.xlsx')\n",
        "data.columns = data.columns.str.lower()\n",
        "data.head()"
      ],
      "execution_count": 4,
      "outputs": [
        {
          "output_type": "execute_result",
          "data": {
            "text/html": [
              "<div>\n",
              "<style scoped>\n",
              "    .dataframe tbody tr th:only-of-type {\n",
              "        vertical-align: middle;\n",
              "    }\n",
              "\n",
              "    .dataframe tbody tr th {\n",
              "        vertical-align: top;\n",
              "    }\n",
              "\n",
              "    .dataframe thead th {\n",
              "        text-align: right;\n",
              "    }\n",
              "</style>\n",
              "<table border=\"1\" class=\"dataframe\">\n",
              "  <thead>\n",
              "    <tr style=\"text-align: right;\">\n",
              "      <th></th>\n",
              "      <th>airline</th>\n",
              "      <th>date_of_journey</th>\n",
              "      <th>source</th>\n",
              "      <th>destination</th>\n",
              "      <th>route</th>\n",
              "      <th>dep_time</th>\n",
              "      <th>arrival_time</th>\n",
              "      <th>duration</th>\n",
              "      <th>total_stops</th>\n",
              "      <th>additional_info</th>\n",
              "      <th>price</th>\n",
              "    </tr>\n",
              "  </thead>\n",
              "  <tbody>\n",
              "    <tr>\n",
              "      <th>0</th>\n",
              "      <td>IndiGo</td>\n",
              "      <td>24/03/2019</td>\n",
              "      <td>Banglore</td>\n",
              "      <td>New Delhi</td>\n",
              "      <td>BLR → DEL</td>\n",
              "      <td>22:20</td>\n",
              "      <td>01:10 22 Mar</td>\n",
              "      <td>2h 50m</td>\n",
              "      <td>non-stop</td>\n",
              "      <td>No info</td>\n",
              "      <td>3897</td>\n",
              "    </tr>\n",
              "    <tr>\n",
              "      <th>1</th>\n",
              "      <td>Air India</td>\n",
              "      <td>1/05/2019</td>\n",
              "      <td>Kolkata</td>\n",
              "      <td>Banglore</td>\n",
              "      <td>CCU → IXR → BBI → BLR</td>\n",
              "      <td>05:50</td>\n",
              "      <td>13:15</td>\n",
              "      <td>7h 25m</td>\n",
              "      <td>2 stops</td>\n",
              "      <td>No info</td>\n",
              "      <td>7662</td>\n",
              "    </tr>\n",
              "    <tr>\n",
              "      <th>2</th>\n",
              "      <td>Jet Airways</td>\n",
              "      <td>9/06/2019</td>\n",
              "      <td>Delhi</td>\n",
              "      <td>Cochin</td>\n",
              "      <td>DEL → LKO → BOM → COK</td>\n",
              "      <td>09:25</td>\n",
              "      <td>04:25 10 Jun</td>\n",
              "      <td>19h</td>\n",
              "      <td>2 stops</td>\n",
              "      <td>No info</td>\n",
              "      <td>13882</td>\n",
              "    </tr>\n",
              "    <tr>\n",
              "      <th>3</th>\n",
              "      <td>IndiGo</td>\n",
              "      <td>12/05/2019</td>\n",
              "      <td>Kolkata</td>\n",
              "      <td>Banglore</td>\n",
              "      <td>CCU → NAG → BLR</td>\n",
              "      <td>18:05</td>\n",
              "      <td>23:30</td>\n",
              "      <td>5h 25m</td>\n",
              "      <td>1 stop</td>\n",
              "      <td>No info</td>\n",
              "      <td>6218</td>\n",
              "    </tr>\n",
              "    <tr>\n",
              "      <th>4</th>\n",
              "      <td>IndiGo</td>\n",
              "      <td>01/03/2019</td>\n",
              "      <td>Banglore</td>\n",
              "      <td>New Delhi</td>\n",
              "      <td>BLR → NAG → DEL</td>\n",
              "      <td>16:50</td>\n",
              "      <td>21:35</td>\n",
              "      <td>4h 45m</td>\n",
              "      <td>1 stop</td>\n",
              "      <td>No info</td>\n",
              "      <td>13302</td>\n",
              "    </tr>\n",
              "  </tbody>\n",
              "</table>\n",
              "</div>"
            ],
            "text/plain": [
              "       airline date_of_journey    source  ... total_stops additional_info  price\n",
              "0       IndiGo      24/03/2019  Banglore  ...    non-stop         No info   3897\n",
              "1    Air India       1/05/2019   Kolkata  ...     2 stops         No info   7662\n",
              "2  Jet Airways       9/06/2019     Delhi  ...     2 stops         No info  13882\n",
              "3       IndiGo      12/05/2019   Kolkata  ...      1 stop         No info   6218\n",
              "4       IndiGo      01/03/2019  Banglore  ...      1 stop         No info  13302\n",
              "\n",
              "[5 rows x 11 columns]"
            ]
          },
          "metadata": {},
          "execution_count": 4
        }
      ]
    },
    {
      "cell_type": "markdown",
      "metadata": {
        "id": "k-fFKbzkbz9t"
      },
      "source": [
        "## **<ins>Data Cleaning</ins>**\n",
        "This is copied from my [Data Cleaning notebook](https://github.com/abhinavnayak11/flight-prediction/blob/main/notebooks/Data_Cleaning.ipynb)"
      ]
    },
    {
      "cell_type": "code",
      "metadata": {
        "colab": {
          "base_uri": "https://localhost:8080/",
          "height": 204
        },
        "id": "CqMlWQn7age3",
        "outputId": "75c8928d-e2d3-4de4-fed0-a54edfeea933"
      },
      "source": [
        "# has null values\n",
        "data.drop(index = 9039, inplace = True)\n",
        "\n",
        "# outliers in 'price'\n",
        "data = data[data['price'] < 40000]         \n",
        "\n",
        "# outliers in 'airline'\n",
        "mask1 = data['airline'] != 'Trujet'\n",
        "mask2 = data['airline'] != 'Multiple carriers Premium economy'\n",
        "mask3 = data['airline'] != 'Vistara Premium economy'\n",
        "data = data[mask1 & mask2 & mask3]\n",
        "\n",
        "data.drop(index = 5136, inplace = True)\n",
        "\n",
        "# outliers in 'source'\n",
        "data.drop(index = [10052, 268], inplace = True)\n",
        "\n",
        "# outliers in 'destination'\n",
        "data.drop(index = [2099, 2693, 5719, 2099, 2693, 5719], inplace = True)\n",
        "\n",
        "# outliers in 'total_stops'\n",
        "mask1 = data['total_stops'] != '4 stops'\n",
        "mask2 = data['total_stops'] != '3 stops'\n",
        "data = data[mask1 & mask2]\n",
        "\n",
        "data.drop(index = [1629, 7617, 8598], inplace = True)\n",
        "\n",
        "# creating new features from 'date_of_journey'\n",
        "data['date_of_journey'] = pd.to_datetime(data['date_of_journey'], format='%d/%m/%Y')\n",
        "data['doj_month'] = data['date_of_journey'].dt.month\n",
        "data['doj_day'] = data['date_of_journey'].dt.day\n",
        "data['doj_dayofweek'] = data['date_of_journey'].dt.dayofweek\n",
        "data['doj_weekofyear'] = data['date_of_journey'].dt.isocalendar().week.astype(int)\n",
        "\n",
        "# outliers in 'doj_month'\n",
        "data.drop(index = [6991], inplace = True)\n",
        "\n",
        "# outliers in 'doj_day'\n",
        "data.drop(index = [396, 628, 2108], inplace = True)\n",
        "\n",
        "# creating new features from 'dep_time'\n",
        "data['dep_hour'] = data['dep_time'].apply(lambda x: re.findall(r'(\\d+):\\d+', x)[0]).astype(int)\n",
        "data['dep_min'] = data['dep_time'].apply(lambda x: re.findall(r'\\d+:(\\d+)', x)[0]).astype(int)\n",
        "\n",
        "# dropping features which are not needed\n",
        "data.drop(['date_of_journey', 'dep_time', 'route', 'additional_info', 'arrival_time', 'duration'], axis = 1, inplace = True)\n",
        "\n",
        "data.head()"
      ],
      "execution_count": 5,
      "outputs": [
        {
          "output_type": "execute_result",
          "data": {
            "text/html": [
              "<div>\n",
              "<style scoped>\n",
              "    .dataframe tbody tr th:only-of-type {\n",
              "        vertical-align: middle;\n",
              "    }\n",
              "\n",
              "    .dataframe tbody tr th {\n",
              "        vertical-align: top;\n",
              "    }\n",
              "\n",
              "    .dataframe thead th {\n",
              "        text-align: right;\n",
              "    }\n",
              "</style>\n",
              "<table border=\"1\" class=\"dataframe\">\n",
              "  <thead>\n",
              "    <tr style=\"text-align: right;\">\n",
              "      <th></th>\n",
              "      <th>airline</th>\n",
              "      <th>source</th>\n",
              "      <th>destination</th>\n",
              "      <th>total_stops</th>\n",
              "      <th>price</th>\n",
              "      <th>doj_month</th>\n",
              "      <th>doj_day</th>\n",
              "      <th>doj_dayofweek</th>\n",
              "      <th>doj_weekofyear</th>\n",
              "      <th>dep_hour</th>\n",
              "      <th>dep_min</th>\n",
              "    </tr>\n",
              "  </thead>\n",
              "  <tbody>\n",
              "    <tr>\n",
              "      <th>0</th>\n",
              "      <td>IndiGo</td>\n",
              "      <td>Banglore</td>\n",
              "      <td>New Delhi</td>\n",
              "      <td>non-stop</td>\n",
              "      <td>3897</td>\n",
              "      <td>3</td>\n",
              "      <td>24</td>\n",
              "      <td>6</td>\n",
              "      <td>12</td>\n",
              "      <td>22</td>\n",
              "      <td>20</td>\n",
              "    </tr>\n",
              "    <tr>\n",
              "      <th>1</th>\n",
              "      <td>Air India</td>\n",
              "      <td>Kolkata</td>\n",
              "      <td>Banglore</td>\n",
              "      <td>2 stops</td>\n",
              "      <td>7662</td>\n",
              "      <td>5</td>\n",
              "      <td>1</td>\n",
              "      <td>2</td>\n",
              "      <td>18</td>\n",
              "      <td>5</td>\n",
              "      <td>50</td>\n",
              "    </tr>\n",
              "    <tr>\n",
              "      <th>2</th>\n",
              "      <td>Jet Airways</td>\n",
              "      <td>Delhi</td>\n",
              "      <td>Cochin</td>\n",
              "      <td>2 stops</td>\n",
              "      <td>13882</td>\n",
              "      <td>6</td>\n",
              "      <td>9</td>\n",
              "      <td>6</td>\n",
              "      <td>23</td>\n",
              "      <td>9</td>\n",
              "      <td>25</td>\n",
              "    </tr>\n",
              "    <tr>\n",
              "      <th>3</th>\n",
              "      <td>IndiGo</td>\n",
              "      <td>Kolkata</td>\n",
              "      <td>Banglore</td>\n",
              "      <td>1 stop</td>\n",
              "      <td>6218</td>\n",
              "      <td>5</td>\n",
              "      <td>12</td>\n",
              "      <td>6</td>\n",
              "      <td>19</td>\n",
              "      <td>18</td>\n",
              "      <td>5</td>\n",
              "    </tr>\n",
              "    <tr>\n",
              "      <th>4</th>\n",
              "      <td>IndiGo</td>\n",
              "      <td>Banglore</td>\n",
              "      <td>New Delhi</td>\n",
              "      <td>1 stop</td>\n",
              "      <td>13302</td>\n",
              "      <td>3</td>\n",
              "      <td>1</td>\n",
              "      <td>4</td>\n",
              "      <td>9</td>\n",
              "      <td>16</td>\n",
              "      <td>50</td>\n",
              "    </tr>\n",
              "  </tbody>\n",
              "</table>\n",
              "</div>"
            ],
            "text/plain": [
              "       airline    source destination  ... doj_weekofyear  dep_hour  dep_min\n",
              "0       IndiGo  Banglore   New Delhi  ...             12        22       20\n",
              "1    Air India   Kolkata    Banglore  ...             18         5       50\n",
              "2  Jet Airways     Delhi      Cochin  ...             23         9       25\n",
              "3       IndiGo   Kolkata    Banglore  ...             19        18        5\n",
              "4       IndiGo  Banglore   New Delhi  ...              9        16       50\n",
              "\n",
              "[5 rows x 11 columns]"
            ]
          },
          "metadata": {},
          "execution_count": 5
        }
      ]
    },
    {
      "cell_type": "markdown",
      "metadata": {
        "id": "ZaCnOUBDc5wt"
      },
      "source": [
        "## **<ins>One-Hot Encoding categorical features</ins>**"
      ]
    },
    {
      "cell_type": "code",
      "metadata": {
        "id": "0IdACU6Ocizs"
      },
      "source": [
        "data['total_stops'] = data['total_stops'].map({'1 stop':1, 'non-stop':0, '2 stops':2}).astype(int)\n",
        "\n",
        "for col in ['airline','source', 'destination']:\n",
        "  cats = list(data[col].value_counts().index)\n",
        "  mapping = dict(zip(cats, range(len(cats))))\n",
        "  data[col] = data[col].map(mapping)"
      ],
      "execution_count": 6,
      "outputs": []
    },
    {
      "cell_type": "code",
      "metadata": {
        "colab": {
          "base_uri": "https://localhost:8080/",
          "height": 419
        },
        "id": "5uRhSlNydeqH",
        "outputId": "b1bdc525-1f41-4189-d7b7-239a57bbc117"
      },
      "source": [
        "data"
      ],
      "execution_count": 7,
      "outputs": [
        {
          "output_type": "execute_result",
          "data": {
            "text/html": [
              "<div>\n",
              "<style scoped>\n",
              "    .dataframe tbody tr th:only-of-type {\n",
              "        vertical-align: middle;\n",
              "    }\n",
              "\n",
              "    .dataframe tbody tr th {\n",
              "        vertical-align: top;\n",
              "    }\n",
              "\n",
              "    .dataframe thead th {\n",
              "        text-align: right;\n",
              "    }\n",
              "</style>\n",
              "<table border=\"1\" class=\"dataframe\">\n",
              "  <thead>\n",
              "    <tr style=\"text-align: right;\">\n",
              "      <th></th>\n",
              "      <th>airline</th>\n",
              "      <th>source</th>\n",
              "      <th>destination</th>\n",
              "      <th>total_stops</th>\n",
              "      <th>price</th>\n",
              "      <th>doj_month</th>\n",
              "      <th>doj_day</th>\n",
              "      <th>doj_dayofweek</th>\n",
              "      <th>doj_weekofyear</th>\n",
              "      <th>dep_hour</th>\n",
              "      <th>dep_min</th>\n",
              "    </tr>\n",
              "  </thead>\n",
              "  <tbody>\n",
              "    <tr>\n",
              "      <th>0</th>\n",
              "      <td>1</td>\n",
              "      <td>2</td>\n",
              "      <td>3</td>\n",
              "      <td>0</td>\n",
              "      <td>3897</td>\n",
              "      <td>3</td>\n",
              "      <td>24</td>\n",
              "      <td>6</td>\n",
              "      <td>12</td>\n",
              "      <td>22</td>\n",
              "      <td>20</td>\n",
              "    </tr>\n",
              "    <tr>\n",
              "      <th>1</th>\n",
              "      <td>2</td>\n",
              "      <td>1</td>\n",
              "      <td>1</td>\n",
              "      <td>2</td>\n",
              "      <td>7662</td>\n",
              "      <td>5</td>\n",
              "      <td>1</td>\n",
              "      <td>2</td>\n",
              "      <td>18</td>\n",
              "      <td>5</td>\n",
              "      <td>50</td>\n",
              "    </tr>\n",
              "    <tr>\n",
              "      <th>2</th>\n",
              "      <td>0</td>\n",
              "      <td>0</td>\n",
              "      <td>0</td>\n",
              "      <td>2</td>\n",
              "      <td>13882</td>\n",
              "      <td>6</td>\n",
              "      <td>9</td>\n",
              "      <td>6</td>\n",
              "      <td>23</td>\n",
              "      <td>9</td>\n",
              "      <td>25</td>\n",
              "    </tr>\n",
              "    <tr>\n",
              "      <th>3</th>\n",
              "      <td>1</td>\n",
              "      <td>1</td>\n",
              "      <td>1</td>\n",
              "      <td>1</td>\n",
              "      <td>6218</td>\n",
              "      <td>5</td>\n",
              "      <td>12</td>\n",
              "      <td>6</td>\n",
              "      <td>19</td>\n",
              "      <td>18</td>\n",
              "      <td>5</td>\n",
              "    </tr>\n",
              "    <tr>\n",
              "      <th>4</th>\n",
              "      <td>1</td>\n",
              "      <td>2</td>\n",
              "      <td>3</td>\n",
              "      <td>1</td>\n",
              "      <td>13302</td>\n",
              "      <td>3</td>\n",
              "      <td>1</td>\n",
              "      <td>4</td>\n",
              "      <td>9</td>\n",
              "      <td>16</td>\n",
              "      <td>50</td>\n",
              "    </tr>\n",
              "    <tr>\n",
              "      <th>...</th>\n",
              "      <td>...</td>\n",
              "      <td>...</td>\n",
              "      <td>...</td>\n",
              "      <td>...</td>\n",
              "      <td>...</td>\n",
              "      <td>...</td>\n",
              "      <td>...</td>\n",
              "      <td>...</td>\n",
              "      <td>...</td>\n",
              "      <td>...</td>\n",
              "      <td>...</td>\n",
              "    </tr>\n",
              "    <tr>\n",
              "      <th>10678</th>\n",
              "      <td>6</td>\n",
              "      <td>1</td>\n",
              "      <td>1</td>\n",
              "      <td>0</td>\n",
              "      <td>4107</td>\n",
              "      <td>4</td>\n",
              "      <td>9</td>\n",
              "      <td>1</td>\n",
              "      <td>15</td>\n",
              "      <td>19</td>\n",
              "      <td>55</td>\n",
              "    </tr>\n",
              "    <tr>\n",
              "      <th>10679</th>\n",
              "      <td>2</td>\n",
              "      <td>1</td>\n",
              "      <td>1</td>\n",
              "      <td>0</td>\n",
              "      <td>4145</td>\n",
              "      <td>4</td>\n",
              "      <td>27</td>\n",
              "      <td>5</td>\n",
              "      <td>17</td>\n",
              "      <td>20</td>\n",
              "      <td>45</td>\n",
              "    </tr>\n",
              "    <tr>\n",
              "      <th>10680</th>\n",
              "      <td>0</td>\n",
              "      <td>2</td>\n",
              "      <td>2</td>\n",
              "      <td>0</td>\n",
              "      <td>7229</td>\n",
              "      <td>4</td>\n",
              "      <td>27</td>\n",
              "      <td>5</td>\n",
              "      <td>17</td>\n",
              "      <td>8</td>\n",
              "      <td>20</td>\n",
              "    </tr>\n",
              "    <tr>\n",
              "      <th>10681</th>\n",
              "      <td>5</td>\n",
              "      <td>2</td>\n",
              "      <td>3</td>\n",
              "      <td>0</td>\n",
              "      <td>12648</td>\n",
              "      <td>3</td>\n",
              "      <td>1</td>\n",
              "      <td>4</td>\n",
              "      <td>9</td>\n",
              "      <td>11</td>\n",
              "      <td>30</td>\n",
              "    </tr>\n",
              "    <tr>\n",
              "      <th>10682</th>\n",
              "      <td>2</td>\n",
              "      <td>0</td>\n",
              "      <td>0</td>\n",
              "      <td>2</td>\n",
              "      <td>11753</td>\n",
              "      <td>5</td>\n",
              "      <td>9</td>\n",
              "      <td>3</td>\n",
              "      <td>19</td>\n",
              "      <td>10</td>\n",
              "      <td>55</td>\n",
              "    </tr>\n",
              "  </tbody>\n",
              "</table>\n",
              "<p>10597 rows × 11 columns</p>\n",
              "</div>"
            ],
            "text/plain": [
              "       airline  source  destination  ...  doj_weekofyear  dep_hour  dep_min\n",
              "0            1       2            3  ...              12        22       20\n",
              "1            2       1            1  ...              18         5       50\n",
              "2            0       0            0  ...              23         9       25\n",
              "3            1       1            1  ...              19        18        5\n",
              "4            1       2            3  ...               9        16       50\n",
              "...        ...     ...          ...  ...             ...       ...      ...\n",
              "10678        6       1            1  ...              15        19       55\n",
              "10679        2       1            1  ...              17        20       45\n",
              "10680        0       2            2  ...              17         8       20\n",
              "10681        5       2            3  ...               9        11       30\n",
              "10682        2       0            0  ...              19        10       55\n",
              "\n",
              "[10597 rows x 11 columns]"
            ]
          },
          "metadata": {},
          "execution_count": 7
        }
      ]
    },
    {
      "cell_type": "markdown",
      "metadata": {
        "id": "1_ZpdVkteTgU"
      },
      "source": [
        "## **<ins>Training Models</ins>**"
      ]
    },
    {
      "cell_type": "markdown",
      "metadata": {
        "id": "IwrxKYU2eX7U"
      },
      "source": [
        "### **Split into features and label**"
      ]
    },
    {
      "cell_type": "code",
      "metadata": {
        "id": "1p9XzESndZTA"
      },
      "source": [
        "X = data.drop('price', axis = 1)\n",
        "y = data['price'].values"
      ],
      "execution_count": 9,
      "outputs": []
    },
    {
      "cell_type": "markdown",
      "metadata": {
        "id": "pQvQmAVs8f0c"
      },
      "source": [
        "### **Define all the models**"
      ]
    },
    {
      "cell_type": "code",
      "metadata": {
        "id": "bK-mLB9xdm6T"
      },
      "source": [
        "models = {\n",
        "    'linearreg' : LinearRegression(),\n",
        "    'ridge' : Ridge(random_state=42),\n",
        "    'lasso' : Lasso(random_state=42),\n",
        "    'decisiontree' : DecisionTreeRegressor(random_state=42),\n",
        "    'randomforest' : RandomForestRegressor(random_state = 42), \n",
        "    'extratrees' : ExtraTreesRegressor(random_state = 42),\n",
        "    'lightgbm' : LGBMRegressor(random_state=42),\n",
        "    'catboost' : CatBoostRegressor(random_state = 42, verbose=0),\n",
        "    'xgboost' : XGBRegressor(random_state = 42, objective ='reg:squarederror')\n",
        "}"
      ],
      "execution_count": 11,
      "outputs": []
    },
    {
      "cell_type": "markdown",
      "metadata": {
        "id": "UDw-kEpG8rkM"
      },
      "source": [
        "### **Comparing performance of different models**"
      ]
    },
    {
      "cell_type": "code",
      "metadata": {
        "colab": {
          "base_uri": "https://localhost:8080/"
        },
        "id": "Y7RF2-xdffTh",
        "outputId": "958d4666-6f61-4a05-f2dd-9c7ca043479a"
      },
      "source": [
        "model_score = []\n",
        "for model_name in models.keys():\n",
        "  print(f\"Training {model_name}...\", end=\" \")\n",
        "  model = models[model_name]\n",
        "  cv = KFold(n_splits = 5, shuffle = True, random_state = 42)\n",
        "  scores = cross_val_score(model, X, y, cv = cv)\n",
        "  avg = scores.mean()\n",
        "  model_score.append(avg)\n",
        "  print(\"Done\")"
      ],
      "execution_count": 13,
      "outputs": [
        {
          "output_type": "stream",
          "name": "stdout",
          "text": [
            "Training linearreg... Done\n",
            "Training ridge... Done\n",
            "Training lasso... Done\n",
            "Training decisiontree... Done\n",
            "Training randomforest... Done\n",
            "Training extratrees... Done\n",
            "Training lightgbm... Done\n",
            "Training catboost... Done\n",
            "Training xgboost... Done\n"
          ]
        }
      ]
    },
    {
      "cell_type": "code",
      "metadata": {
        "colab": {
          "base_uri": "https://localhost:8080/",
          "height": 328
        },
        "id": "bKguTco2iTtT",
        "outputId": "b7737865-9a17-4ffb-f484-b738bc35d7e6"
      },
      "source": [
        "df = pd.DataFrame()\n",
        "df['model'] = list(models.keys())\n",
        "df['score'] = model_score\n",
        "df.sort_values('score')"
      ],
      "execution_count": 14,
      "outputs": [
        {
          "output_type": "execute_result",
          "data": {
            "text/html": [
              "<div>\n",
              "<style scoped>\n",
              "    .dataframe tbody tr th:only-of-type {\n",
              "        vertical-align: middle;\n",
              "    }\n",
              "\n",
              "    .dataframe tbody tr th {\n",
              "        vertical-align: top;\n",
              "    }\n",
              "\n",
              "    .dataframe thead th {\n",
              "        text-align: right;\n",
              "    }\n",
              "</style>\n",
              "<table border=\"1\" class=\"dataframe\">\n",
              "  <thead>\n",
              "    <tr style=\"text-align: right;\">\n",
              "      <th></th>\n",
              "      <th>model</th>\n",
              "      <th>score</th>\n",
              "    </tr>\n",
              "  </thead>\n",
              "  <tbody>\n",
              "    <tr>\n",
              "      <th>2</th>\n",
              "      <td>lasso</td>\n",
              "      <td>0.500760</td>\n",
              "    </tr>\n",
              "    <tr>\n",
              "      <th>1</th>\n",
              "      <td>ridge</td>\n",
              "      <td>0.504990</td>\n",
              "    </tr>\n",
              "    <tr>\n",
              "      <th>0</th>\n",
              "      <td>linearreg</td>\n",
              "      <td>0.510984</td>\n",
              "    </tr>\n",
              "    <tr>\n",
              "      <th>3</th>\n",
              "      <td>decisiontree</td>\n",
              "      <td>0.786192</td>\n",
              "    </tr>\n",
              "    <tr>\n",
              "      <th>8</th>\n",
              "      <td>xgboost</td>\n",
              "      <td>0.786575</td>\n",
              "    </tr>\n",
              "    <tr>\n",
              "      <th>5</th>\n",
              "      <td>extratrees</td>\n",
              "      <td>0.818534</td>\n",
              "    </tr>\n",
              "    <tr>\n",
              "      <th>4</th>\n",
              "      <td>randomforest</td>\n",
              "      <td>0.834206</td>\n",
              "    </tr>\n",
              "    <tr>\n",
              "      <th>6</th>\n",
              "      <td>lightgbm</td>\n",
              "      <td>0.844629</td>\n",
              "    </tr>\n",
              "    <tr>\n",
              "      <th>7</th>\n",
              "      <td>catboost</td>\n",
              "      <td>0.858038</td>\n",
              "    </tr>\n",
              "  </tbody>\n",
              "</table>\n",
              "</div>"
            ],
            "text/plain": [
              "          model     score\n",
              "2         lasso  0.500760\n",
              "1         ridge  0.504990\n",
              "0     linearreg  0.510984\n",
              "3  decisiontree  0.786192\n",
              "8       xgboost  0.786575\n",
              "5    extratrees  0.818534\n",
              "4  randomforest  0.834206\n",
              "6      lightgbm  0.844629\n",
              "7      catboost  0.858038"
            ]
          },
          "metadata": {},
          "execution_count": 14
        }
      ]
    },
    {
      "cell_type": "markdown",
      "metadata": {
        "id": "4Y_6GBil-bwh"
      },
      "source": [
        "Catboost is giving best results. We will tune it first and then save the model for inference"
      ]
    },
    {
      "cell_type": "markdown",
      "metadata": {
        "id": "WgDe_sbm-rzz"
      },
      "source": [
        "## **<ins>Hyperparameter Optimization</ins>**"
      ]
    },
    {
      "cell_type": "markdown",
      "metadata": {
        "id": "ZGXIwmEN-xuf"
      },
      "source": [
        "### **GridSearchCV**"
      ]
    },
    {
      "cell_type": "code",
      "metadata": {
        "id": "3z-sDss2ARjL"
      },
      "source": [
        "param_grid = {\n",
        "    'depth' : [3,6,9,11],\n",
        "    'learning_rate' : [1e-2, 1e-1, 1.0]\n",
        "}"
      ],
      "execution_count": 27,
      "outputs": []
    },
    {
      "cell_type": "code",
      "metadata": {
        "colab": {
          "base_uri": "https://localhost:8080/"
        },
        "id": "g-8P89JS-o62",
        "outputId": "76a96670-93f3-45c7-a554-815e5805189c"
      },
      "source": [
        "from sklearn.model_selection import GridSearchCV, RandomizedSearchCV\n",
        "\n",
        "model = CatBoostRegressor(random_state = 42, verbose=0)\n",
        "\n",
        "cv = KFold(n_splits = 5, shuffle = True, random_state = 42)\n",
        "grid_model = GridSearchCV(estimator = model, param_grid = param_grid, scoring = 'r2', cv = cv, n_jobs = -1)\n",
        "grid_model.fit(X, y)"
      ],
      "execution_count": 28,
      "outputs": [
        {
          "output_type": "execute_result",
          "data": {
            "text/plain": [
              "GridSearchCV(cv=KFold(n_splits=5, random_state=42, shuffle=True),\n",
              "             error_score=nan,\n",
              "             estimator=<catboost.core.CatBoostRegressor object at 0x7f8488dcabd0>,\n",
              "             iid='deprecated', n_jobs=-1,\n",
              "             param_grid={'depth': [3, 6, 9, 11],\n",
              "                         'learning_rate': [0.01, 0.1, 1.0]},\n",
              "             pre_dispatch='2*n_jobs', refit=True, return_train_score=False,\n",
              "             scoring='r2', verbose=0)"
            ]
          },
          "metadata": {},
          "execution_count": 28
        }
      ]
    },
    {
      "cell_type": "code",
      "metadata": {
        "colab": {
          "base_uri": "https://localhost:8080/"
        },
        "id": "Rce8gohaBL4N",
        "outputId": "972aa31f-e08e-482a-f732-393c2dd155c5"
      },
      "source": [
        "print(f\"Best score: {grid_model.best_score_}\")\n",
        "print(f\"Best params: {grid_model.best_params_}\")"
      ],
      "execution_count": 29,
      "outputs": [
        {
          "output_type": "stream",
          "name": "stdout",
          "text": [
            "Best score: 0.8593965490268852\n",
            "Best params: {'depth': 6, 'learning_rate': 0.1}\n"
          ]
        }
      ]
    },
    {
      "cell_type": "markdown",
      "metadata": {
        "id": "p2XX-U9WG51G"
      },
      "source": [
        "The model's score has increased from 0.8580 to 0.85939"
      ]
    },
    {
      "cell_type": "markdown",
      "metadata": {
        "id": "DnSzTT56CErY"
      },
      "source": [
        "### **RandomizedSearchCV**"
      ]
    },
    {
      "cell_type": "code",
      "metadata": {
        "id": "RjDI8cxVCI8t"
      },
      "source": [
        "param_distributions = {\n",
        "    'depth' : [3,6,9,11],\n",
        "    'learning_rate' : [1e-3, 1e-2, 1e-1, 1.0],\n",
        "    'min_data_in_leaf' : [5, 20, 60, 100]\n",
        "}"
      ],
      "execution_count": 23,
      "outputs": []
    },
    {
      "cell_type": "code",
      "metadata": {
        "colab": {
          "base_uri": "https://localhost:8080/"
        },
        "id": "wiozV6XBCoY6",
        "outputId": "e6a792d8-3688-42b4-cae2-9f39d25c5986"
      },
      "source": [
        "model = CatBoostRegressor(random_state = 42, verbose=0)\n",
        "\n",
        "cv = KFold(n_splits = 5, shuffle = True, random_state = 42)\n",
        "randomized_model = RandomizedSearchCV(estimator = model, param_distributions = param_distributions, n_iter = 15, scoring = 'r2', cv = cv, n_jobs = -1)\n",
        "randomized_model.fit(X, y)"
      ],
      "execution_count": 25,
      "outputs": [
        {
          "output_type": "execute_result",
          "data": {
            "text/plain": [
              "RandomizedSearchCV(cv=KFold(n_splits=5, random_state=42, shuffle=True),\n",
              "                   error_score=nan,\n",
              "                   estimator=<catboost.core.CatBoostRegressor object at 0x7f8488ee3ad0>,\n",
              "                   iid='deprecated', n_iter=15, n_jobs=-1,\n",
              "                   param_distributions={'depth': [3, 6, 9, 11],\n",
              "                                        'learning_rate': [0.001, 0.01, 0.1,\n",
              "                                                          1.0],\n",
              "                                        'min_data_in_leaf': [5, 20, 60, 100]},\n",
              "                   pre_dispatch='2*n_jobs', random_state=None, refit=True,\n",
              "                   return_train_score=False, scoring='r2', verbose=0)"
            ]
          },
          "metadata": {},
          "execution_count": 25
        }
      ]
    },
    {
      "cell_type": "code",
      "metadata": {
        "colab": {
          "base_uri": "https://localhost:8080/"
        },
        "id": "IE1umIdaDXbP",
        "outputId": "a7cdc243-7b75-4d4b-ce34-549996863877"
      },
      "source": [
        "print(f\"Best score: {randomized_model.best_score_}\")\n",
        "print(f\"Best params: {randomized_model.best_params_}\")"
      ],
      "execution_count": 26,
      "outputs": [
        {
          "output_type": "stream",
          "name": "stdout",
          "text": [
            "Best score: 0.8593965490268852\n",
            "Best params: {'min_data_in_leaf': 5, 'learning_rate': 0.1, 'depth': 6}\n"
          ]
        }
      ]
    },
    {
      "cell_type": "markdown",
      "metadata": {
        "id": "MlTkaqBVHHKd"
      },
      "source": [
        "The model's score has increased from 0.8580 to 0.85939 though it is marginally lower than best score from GridSearchCV"
      ]
    },
    {
      "cell_type": "markdown",
      "metadata": {
        "id": "Kfs2QivTFWqN"
      },
      "source": [
        "## **<ins>Training model on the whole dataset</ins>**\n",
        "\n",
        "We will train the best performing model with its best parameters on the whole dataset again.   \n",
        "This generally increases the performance of model, as it trains on more data."
      ]
    },
    {
      "cell_type": "code",
      "metadata": {
        "colab": {
          "base_uri": "https://localhost:8080/"
        },
        "id": "_E5Jow3mE8eF",
        "outputId": "6d7f9e4c-b657-4636-e89f-3985bf9d8420"
      },
      "source": [
        "from sklearn.model_selection import train_test_split\n",
        "\n",
        "model = CatBoostRegressor(learning_rate = 0.1, depth = 6, random_state = 42, verbose = 0)\n",
        "model.fit(X, y)"
      ],
      "execution_count": 31,
      "outputs": [
        {
          "output_type": "execute_result",
          "data": {
            "text/plain": [
              "<catboost.core.CatBoostRegressor at 0x7f8488db3750>"
            ]
          },
          "metadata": {},
          "execution_count": 31
        }
      ]
    },
    {
      "cell_type": "markdown",
      "metadata": {
        "id": "yBAJf_fFGhRH"
      },
      "source": [
        "### **Save model for inference**"
      ]
    },
    {
      "cell_type": "code",
      "metadata": {
        "colab": {
          "base_uri": "https://localhost:8080/"
        },
        "id": "cG1aFsJSlqHN",
        "outputId": "85c74992-a323-436b-e81e-19a445e88e36"
      },
      "source": [
        "joblib.dump(model, 'model.pkl')"
      ],
      "execution_count": 32,
      "outputs": [
        {
          "output_type": "execute_result",
          "data": {
            "text/plain": [
              "['model.pkl']"
            ]
          },
          "metadata": {},
          "execution_count": 32
        }
      ]
    },
    {
      "cell_type": "markdown",
      "metadata": {
        "id": "LK_c4v096Rkh"
      },
      "source": [
        "___"
      ]
    }
  ]
}
